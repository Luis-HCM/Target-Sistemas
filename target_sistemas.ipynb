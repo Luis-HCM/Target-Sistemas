{
 "cells": [
  {
   "cell_type": "code",
   "execution_count": 3,
   "metadata": {},
   "outputs": [],
   "source": [
    "# EXERCICIO 1\n",
    "def fibonacci(find_number):\n",
    "    first_number = 0\n",
    "    second_number = 1\n",
    "    while True:\n",
    "        if first_number == find_number:\n",
    "            print(f\"{find_number} PERTENCE A SEQUENCIA DE FIBONACCI\")\n",
    "            break\n",
    "        elif first_number > find_number:\n",
    "            print(f\"{find_number} NÂO PERTENCE A SEQUENCIA DE FIBONACCI\")\n",
    "            break\n",
    "        sum_number = first_number + second_number\n",
    "        first_number = second_number\n",
    "        second_number = sum_number \n",
    "\n",
    "NUMBER = 7\n",
    "fibonacci(NUMBER)\n"
   ]
  },
  {
   "cell_type": "code",
   "execution_count": 24,
   "metadata": {},
   "outputs": [],
   "source": [
    "# EXERCICIO 2\n",
    "\n",
    "def count_a(text):\n",
    "    return sum(1 for letter in text if letter.lower() == 'a')\n",
    "\n",
    "# OU\n",
    "\n",
    "def count_a_2(text):\n",
    "    return text.lower().count('a')\n",
    "\n",
    "TEXT = 'abelha'\n",
    "count_a(TEXT)\n",
    "count_a_2(TEXT)"
   ]
  },
  {
   "cell_type": "code",
   "execution_count": 28,
   "metadata": {},
   "outputs": [
    {
     "name": "stdout",
     "output_type": "stream",
     "text": [
      "77\n"
     ]
    }
   ],
   "source": [
    "# EXERCICIO 3\n",
    "\n",
    "INDICE = 12\n",
    "SOMA = 0 \n",
    "K = 1\n",
    "while K < INDICE:\n",
    "    K += 1\n",
    "    SOMA += K\n",
    "    \n",
    "print(SOMA)\n",
    "# É o NUMERO 77"
   ]
  },
  {
   "cell_type": "markdown",
   "metadata": {},
   "source": [
    "a) 1, 3, 5, 7, 9\n",
    "b) 2, 4, 8, 16, 32, 64, 128\n",
    "c) 0, 1, 4, 9, 16, 25, 36, 49\n",
    "d) 4, 16, 36, 64, 100\n",
    "e) 1, 1, 2, 3, 5, 8, 13\n",
    "f) 2,10, 12, 16, 17, 18, 19, 200"
   ]
  },
  {
   "cell_type": "markdown",
   "metadata": {},
   "source": [
    "EXERCICIO 5\n",
    "\n",
    "Eu ligo o interrupitor 1 e espero 60 minutos, após 60 minutos eu desligo o interrupitor 1 e ligo o 2. Na primeira ida eu escolha qualquer sala, se a lux estiver acessa ela pertence ao interrupitor 2, se apagada e a lampada esta fria é o interrupitor 3 porem se a lampada esta apagada e quente, ela pertence ao interrupitor 1. Na segunda ida só preciso escolher uma das duas salas restantes e saberei a qual interupitor cada lampada pertence."
   ]
  }
 ],
 "metadata": {
  "kernelspec": {
   "display_name": "Python 3",
   "language": "python",
   "name": "python3"
  },
  "language_info": {
   "codemirror_mode": {
    "name": "ipython",
    "version": 3
   },
   "file_extension": ".py",
   "mimetype": "text/x-python",
   "name": "python",
   "nbconvert_exporter": "python",
   "pygments_lexer": "ipython3",
   "version": "3.12.2"
  }
 },
 "nbformat": 4,
 "nbformat_minor": 2
}
